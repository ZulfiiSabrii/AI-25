{
 "cells": [
  {
   "cell_type": "markdown",
   "id": "67af5783",
   "metadata": {},
   "source": [
    "Name:Zulfiqar\u000bID:BIT-24S-024\u000b\u000bArtifitial Intelligence\u000bproblem(26,125)\n"
   ]
  },
  {
   "cell_type": "code",
   "execution_count": 1,
   "id": "94fa5d98",
   "metadata": {},
   "outputs": [],
   "source": [
    "class Solution:\n",
    "    def isPalindrome(self, S):\n",
    "        n = len(S)\n",
    "        for i in range(n // 2):\n",
    "            if S[i] != S[n - 1 - i]:\n",
    "                return 0\n",
    "        return 1\n"
   ]
  },
  {
   "cell_type": "markdown",
   "id": "97d76cd0",
   "metadata": {},
   "source": [
    "This Python class Solution contains a method isPalindrome that checks whether a given string S is a palindrome. \n",
    "\n",
    "A palindrome reads the same forwards and backwards. The method compares characters from the beginning and end of the string, moving toward the center. \n",
    "\n",
    "If any pair doesn’t match, it returns 0 (not a palindrome); if all match, it returns 1 (palindrome)\n",
    "\n"
   ]
  },
  {
   "cell_type": "code",
   "execution_count": 6,
   "id": "b1fc8f4b",
   "metadata": {},
   "outputs": [],
   "source": [
    "def remove_duplicates(nums):\n",
    "    i = 0\n",
    "    while i < len(nums):\n",
    "        j = i + 1\n",
    "        while j < len(nums):\n",
    "            if nums[i] == nums[j]:\n",
    "                nums.pop(j)\n",
    "            else:\n",
    "                j += 1\n",
    "        i += 1\n",
    "    return nums\n",
    "\n"
   ]
  },
  {
   "cell_type": "markdown",
   "id": "86f20ffd",
   "metadata": {},
   "source": [
    "Removes duplicate values from a list.\n",
    "\n",
    "How It Works:\n",
    "Uses nested loops to compare elements\n",
    "\n",
    "Checks for duplicates after each element\n",
    "\n",
    "Removes duplicates in-place using nums.pop(j)\n",
    "\n",
    "Returns the modified list with only first occurrences kept\n"
   ]
  }
 ],
 "metadata": {
  "kernelspec": {
   "display_name": "Python 3",
   "language": "python",
   "name": "python3"
  },
  "language_info": {
   "codemirror_mode": {
    "name": "ipython",
    "version": 3
   },
   "file_extension": ".py",
   "mimetype": "text/x-python",
   "name": "python",
   "nbconvert_exporter": "python",
   "pygments_lexer": "ipython3",
   "version": "3.13.1"
  }
 },
 "nbformat": 4,
 "nbformat_minor": 5
}
